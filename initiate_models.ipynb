{
 "cells": [
  {
   "cell_type": "code",
   "execution_count": 8,
   "id": "b5890eef-bd46-4923-90b0-70fc0de96c27",
   "metadata": {},
   "outputs": [
    {
     "name": "stdout",
     "output_type": "stream",
     "text": [
      "File 'dreamshaper_xl.safetensors' already exists in '/workspace/ComfyUI/models/checkpoints/'. Skipping download.\n",
      "File 'dynavision_xl.safetensors' already exists in '/workspace/ComfyUI/models/checkpoints/'. Skipping download.\n",
      "File 'aesthetic_anime_v1s.safetensors' already exists in '/workspace/ComfyUI/models/loras/'. Skipping download.\n",
      "File 'sdxl_vae.safetensors' already exists in '/workspace/ComfyUI/models/vae/'. Skipping download.\n"
     ]
    },
    {
     "name": "stderr",
     "output_type": "stream",
     "text": [
      "Downloading pillows.safetensors: 100%|██████████| 435M/435M [00:05<00:00, 89.2MB/s] "
     ]
    },
    {
     "name": "stdout",
     "output_type": "stream",
     "text": [
      "File downloaded and saved to /workspace/ComfyUI/models/loras/pillows.safetensors\n"
     ]
    },
    {
     "name": "stderr",
     "output_type": "stream",
     "text": [
      "\n"
     ]
    }
   ],
   "source": [
    "from utils import download_from_civit\n",
    "import yaml\n",
    "\n",
    "# Load the YAML file\n",
    "with open('/workspace/models_to_download.yml', 'r') as file:\n",
    "    data = yaml.safe_load(file)\n",
    "\n",
    "# Iterate over the models in the YAML file and download each one\n",
    "for model_info in data['models']:\n",
    "    download_from_civit(model_info)\n",
    "\n"
   ]
  },
  {
   "cell_type": "code",
   "execution_count": 7,
   "id": "96b217b0-f4b3-4367-b652-baa997f6a61e",
   "metadata": {},
   "outputs": [
    {
     "data": {
      "application/vnd.jupyter.widget-view+json": {
       "model_id": "c012c261ea6c48ddbee2e35c73d80dc1",
       "version_major": 2,
       "version_minor": 0
      },
      "text/plain": [
       "8x_NMKD-Superscale_150000_G.pth:   0%|          | 0.00/67.1M [00:00<?, ?B/s]"
      ]
     },
     "metadata": {},
     "output_type": "display_data"
    },
    {
     "data": {
      "text/plain": [
       "'/workspace/ComfyUI/models/upscale_models/ESRGAN/8x_NMKD-Superscale_150000_G.pth'"
      ]
     },
     "execution_count": 7,
     "metadata": {},
     "output_type": "execute_result"
    }
   ],
   "source": [
    "from huggingface_hub import hf_hub_download\n",
    "hf_hub_download(repo_id=\"uwg/upscaler\", filename=\"ESRGAN/8x_NMKD-Superscale_150000_G.pth\", local_dir = \"/workspace/ComfyUI/models/upscale_models\")"
   ]
  },
  {
   "cell_type": "code",
   "execution_count": null,
   "id": "db17f78e-a8ef-4918-b56b-5e6c4526210c",
   "metadata": {},
   "outputs": [],
   "source": []
  }
 ],
 "metadata": {
  "kernelspec": {
   "display_name": "Python 3 (ipykernel)",
   "language": "python",
   "name": "python3"
  },
  "language_info": {
   "codemirror_mode": {
    "name": "ipython",
    "version": 3
   },
   "file_extension": ".py",
   "mimetype": "text/x-python",
   "name": "python",
   "nbconvert_exporter": "python",
   "pygments_lexer": "ipython3",
   "version": "3.10.12"
  }
 },
 "nbformat": 4,
 "nbformat_minor": 5
}
